{
 "cells": [
  {
   "cell_type": "code",
   "execution_count": 1,
   "metadata": {},
   "outputs": [],
   "source": [
    "## Goal: To set up a barber shop visit tracker. Everytime you show up to the barber shop they register\n",
    "## you in the program. If you are in the program already than we add one visit. "
   ]
  },
  {
   "cell_type": "code",
   "execution_count": 3,
   "metadata": {},
   "outputs": [],
   "source": [
    "## Ask the user for their phone number. Add this to a dictionary. \n",
    "## The default visit count: 1. \n",
    "## If it already exists then add one to their visit count. \n",
    "## dictionary --> phonenumber (str): visit_count (int)\n",
    "\n",
    "## What is going to be included:\n",
    "## if statement. input(\"blah blah\"). intialize a dictiionary. dict = {}. Add stuff to a dictionary. dict[phonenumber] = vistCount\n",
    "## print(statment). math operation. count = count + 1.\n",
    "## note: possible issues. lower(). or what if someone doesn't enter  number. \n",
    "## LOOK THIS UP: how to check if something is an integer? "
   ]
  },
  {
   "cell_type": "code",
   "execution_count": null,
   "metadata": {},
   "outputs": [],
   "source": []
  }
 ],
 "metadata": {
  "kernelspec": {
   "display_name": "Python 3",
   "language": "python",
   "name": "python3"
  },
  "language_info": {
   "codemirror_mode": {
    "name": "ipython",
    "version": 3
   },
   "file_extension": ".py",
   "mimetype": "text/x-python",
   "name": "python",
   "nbconvert_exporter": "python",
   "pygments_lexer": "ipython3",
   "version": "3.8.3"
  }
 },
 "nbformat": 4,
 "nbformat_minor": 4
}
