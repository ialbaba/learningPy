{
 "cells": [
  {
   "cell_type": "code",
   "execution_count": 1,
   "metadata": {},
   "outputs": [
    {
     "name": "stdout",
     "output_type": "stream",
     "text": [
      "{}\n"
     ]
    }
   ],
   "source": [
    "## Dictionaries\n",
    "## kind of like a list but better sometimes\n",
    "\n",
    "dict_var = {}\n",
    "print(dict_var)"
   ]
  },
  {
   "cell_type": "code",
   "execution_count": 10,
   "metadata": {},
   "outputs": [
    {
     "name": "stdout",
     "output_type": "stream",
     "text": [
      "{'John': 8325235913, 'Jack': 8322235917, 'Jill': 83232358438}\n"
     ]
    }
   ],
   "source": [
    "dict_var = {\n",
    "    \"John\" : 8325235913,\n",
    "    \"Jack\" : 8322235917,\n",
    "    \"Jill\" : 83232358438\n",
    "}\n",
    "print(dict_var)"
   ]
  },
  {
   "cell_type": "code",
   "execution_count": 11,
   "metadata": {},
   "outputs": [
    {
     "data": {
      "text/plain": [
       "8325235913"
      ]
     },
     "execution_count": 11,
     "metadata": {},
     "output_type": "execute_result"
    }
   ],
   "source": [
    "dict_var[\"John\"]"
   ]
  },
  {
   "cell_type": "code",
   "execution_count": 12,
   "metadata": {},
   "outputs": [],
   "source": [
    "## Deleting\n",
    "del dict_var[\"Jill\"]"
   ]
  },
  {
   "cell_type": "code",
   "execution_count": 13,
   "metadata": {},
   "outputs": [
    {
     "name": "stdout",
     "output_type": "stream",
     "text": [
      "{'John': 8325235913, 'Jack': 8322235917}\n"
     ]
    }
   ],
   "source": [
    "print(dict_var)"
   ]
  },
  {
   "cell_type": "code",
   "execution_count": 14,
   "metadata": {},
   "outputs": [
    {
     "name": "stdout",
     "output_type": "stream",
     "text": [
      "44\n",
      "77\n",
      "345\n",
      "655\n",
      "233\n"
     ]
    }
   ],
   "source": [
    "## Iterating, 1) List 2) Dictionary\n",
    "\n",
    "l = 44,77,345,655,233\n",
    "\n",
    "for i in l:\n",
    "    print(i)"
   ]
  },
  {
   "cell_type": "code",
   "execution_count": 17,
   "metadata": {},
   "outputs": [
    {
     "name": "stdout",
     "output_type": "stream",
     "text": [
      "John\n",
      "8325235913\n",
      "Jack\n",
      "8322235917\n"
     ]
    }
   ],
   "source": [
    "for i in dict_var:\n",
    "    print(i)\n",
    "    print(dict_var[i])"
   ]
  },
  {
   "cell_type": "code",
   "execution_count": 18,
   "metadata": {},
   "outputs": [
    {
     "name": "stdout",
     "output_type": "stream",
     "text": [
      "John\n",
      "Jack\n"
     ]
    }
   ],
   "source": [
    "#iterting through index ONLY, and manipulating\n",
    "\n",
    "for i in dict_var:\n",
    "    print(i)\n",
    "    if i == \"Jack\":\n",
    "        dict_var[i] = 3468150291"
   ]
  },
  {
   "cell_type": "code",
   "execution_count": 19,
   "metadata": {},
   "outputs": [
    {
     "name": "stdout",
     "output_type": "stream",
     "text": [
      "{'John': 8325235913, 'Jack': 3468150291}\n"
     ]
    }
   ],
   "source": [
    "print(dict_var)"
   ]
  },
  {
   "cell_type": "code",
   "execution_count": 23,
   "metadata": {},
   "outputs": [
    {
     "name": "stdout",
     "output_type": "stream",
     "text": [
      "John\n",
      "8325235913\n",
      "Jack\n",
      "3468150291\n"
     ]
    }
   ],
   "source": [
    "#iterating through index and definintion\n",
    "\n",
    "for i, el in dict_var.items():\n",
    "    print(i)\n",
    "    print(el)"
   ]
  },
  {
   "cell_type": "code",
   "execution_count": 24,
   "metadata": {},
   "outputs": [
    {
     "data": {
      "text/plain": [
       "dict_items([('John', 8325235913), ('Jack', 3468150291)])"
      ]
     },
     "execution_count": 24,
     "metadata": {},
     "output_type": "execute_result"
    }
   ],
   "source": [
    "dict_var.items()"
   ]
  },
  {
   "cell_type": "code",
   "execution_count": 27,
   "metadata": {},
   "outputs": [
    {
     "name": "stdout",
     "output_type": "stream",
     "text": [
      "[['A', 'B'], ['B', 'C']]\n"
     ]
    }
   ],
   "source": [
    "#Lists within lists\n",
    "\n",
    "inner = [\"A\",\"B\"]\n",
    "inner2 = [\"B\",\"C\"]\n",
    "\n",
    "outer = []\n",
    "outer.append(inner)\n",
    "outer.append(inner2)\n",
    "print(outer)"
   ]
  },
  {
   "cell_type": "code",
   "execution_count": 32,
   "metadata": {},
   "outputs": [
    {
     "data": {
      "text/plain": [
       "('John', 8325235913)"
      ]
     },
     "execution_count": 32,
     "metadata": {},
     "output_type": "execute_result"
    }
   ],
   "source": [
    "##  Turning dict into list\n",
    "\n",
    "l = list(dict_var.items())\n",
    "l[0]\n",
    "\n",
    "# Shouldnt be done because a dictionary is more powerfull than list"
   ]
  },
  {
   "cell_type": "code",
   "execution_count": 33,
   "metadata": {},
   "outputs": [],
   "source": [
    "dict_var = {\n",
    "    \"John\" : 8325235913,\n",
    "    \"Jack\" : 8322235917,\n",
    "    \"Jill\" : 83232358438\n",
    "}"
   ]
  },
  {
   "cell_type": "code",
   "execution_count": 35,
   "metadata": {},
   "outputs": [
    {
     "name": "stdout",
     "output_type": "stream",
     "text": [
      "{'John': 8325235913, 'Jack': 8322235917, 'Jill': 83232358438, 'Ibrahim': 8324393182}\n"
     ]
    }
   ],
   "source": [
    "# Adding stuff to the dictionary\n",
    "\n",
    "dict_var[\"Ibrahim\"] = 8324393182\n",
    "print(dict_var)"
   ]
  },
  {
   "cell_type": "code",
   "execution_count": 38,
   "metadata": {},
   "outputs": [],
   "source": [
    "## Another Way to thiink about it\n",
    "\n",
    "d = {\n",
    "    \"Names\" : ['Mahmood',\"Muayad\"],\n",
    "    \"Numbers\" : [8325235913, 83232358438]\n",
    "}"
   ]
  },
  {
   "cell_type": "code",
   "execution_count": 39,
   "metadata": {},
   "outputs": [
    {
     "data": {
      "text/plain": [
       "{'Names': ['Mahmood', 'Muayad'], 'Numbers': [8325235913, 83232358438]}"
      ]
     },
     "execution_count": 39,
     "metadata": {},
     "output_type": "execute_result"
    }
   ],
   "source": [
    "d"
   ]
  },
  {
   "cell_type": "code",
   "execution_count": 48,
   "metadata": {},
   "outputs": [],
   "source": [
    "## Exporting dictionaries to a csv\n",
    "import csv\n",
    "w = csv.writer(open(\"output.csv\", \"w\"))\n",
    "for key, val in dict_var.items():\n",
    "    w.writerow([key, val])"
   ]
  },
  {
   "cell_type": "code",
   "execution_count": 52,
   "metadata": {},
   "outputs": [
    {
     "data": {
      "text/html": [
       "<div>\n",
       "<style scoped>\n",
       "    .dataframe tbody tr th:only-of-type {\n",
       "        vertical-align: middle;\n",
       "    }\n",
       "\n",
       "    .dataframe tbody tr th {\n",
       "        vertical-align: top;\n",
       "    }\n",
       "\n",
       "    .dataframe thead th {\n",
       "        text-align: right;\n",
       "    }\n",
       "</style>\n",
       "<table border=\"1\" class=\"dataframe\">\n",
       "  <thead>\n",
       "    <tr style=\"text-align: right;\">\n",
       "      <th></th>\n",
       "      <th>Names</th>\n",
       "      <th>Numbers</th>\n",
       "    </tr>\n",
       "  </thead>\n",
       "  <tbody>\n",
       "    <tr>\n",
       "      <th>0</th>\n",
       "      <td>Mahmood</td>\n",
       "      <td>8325235913</td>\n",
       "    </tr>\n",
       "    <tr>\n",
       "      <th>1</th>\n",
       "      <td>Muayad</td>\n",
       "      <td>83232358438</td>\n",
       "    </tr>\n",
       "  </tbody>\n",
       "</table>\n",
       "</div>"
      ],
      "text/plain": [
       "     Names      Numbers\n",
       "0  Mahmood   8325235913\n",
       "1   Muayad  83232358438"
      ]
     },
     "execution_count": 52,
     "metadata": {},
     "output_type": "execute_result"
    }
   ],
   "source": [
    "## DataFrame\n",
    "\n",
    "# A dataframe, called df for short, is pandas object, that looks like an excel sheet\n",
    "import pandas as pd\n",
    "pd.DataFrame.from_dict(d)"
   ]
  },
  {
   "cell_type": "code",
   "execution_count": 61,
   "metadata": {},
   "outputs": [
    {
     "name": "stdout",
     "output_type": "stream",
     "text": [
      "     Names  Phone-Number\n",
      "0     John    8325235913\n",
      "1     Jack    8322235917\n",
      "2     Jill   83232358438\n",
      "3  Ibrahim    8324393182\n"
     ]
    }
   ],
   "source": [
    "df = pd.DataFrame(list(dict_var.items()), columns = [\"Names\", \"Phone-Number\"]) \n",
    "print(df)\n",
    "## outputting a dataframe to a csv file\n",
    "df.to_csv(\"output2.csv\", index = False)"
   ]
  },
  {
   "cell_type": "code",
   "execution_count": 64,
   "metadata": {},
   "outputs": [
    {
     "data": {
      "text/html": [
       "<div>\n",
       "<style scoped>\n",
       "    .dataframe tbody tr th:only-of-type {\n",
       "        vertical-align: middle;\n",
       "    }\n",
       "\n",
       "    .dataframe tbody tr th {\n",
       "        vertical-align: top;\n",
       "    }\n",
       "\n",
       "    .dataframe thead th {\n",
       "        text-align: right;\n",
       "    }\n",
       "</style>\n",
       "<table border=\"1\" class=\"dataframe\">\n",
       "  <thead>\n",
       "    <tr style=\"text-align: right;\">\n",
       "      <th></th>\n",
       "      <th>Names</th>\n",
       "      <th>Phone-Number</th>\n",
       "    </tr>\n",
       "  </thead>\n",
       "  <tbody>\n",
       "    <tr>\n",
       "      <th>0</th>\n",
       "      <td>John</td>\n",
       "      <td>8325235913</td>\n",
       "    </tr>\n",
       "    <tr>\n",
       "      <th>1</th>\n",
       "      <td>Jack</td>\n",
       "      <td>8322235917</td>\n",
       "    </tr>\n",
       "    <tr>\n",
       "      <th>2</th>\n",
       "      <td>Jill</td>\n",
       "      <td>83232358438</td>\n",
       "    </tr>\n",
       "    <tr>\n",
       "      <th>3</th>\n",
       "      <td>Ibrahim</td>\n",
       "      <td>8324393182</td>\n",
       "    </tr>\n",
       "  </tbody>\n",
       "</table>\n",
       "</div>"
      ],
      "text/plain": [
       "     Names  Phone-Number\n",
       "0     John    8325235913\n",
       "1     Jack    8322235917\n",
       "2     Jill   83232358438\n",
       "3  Ibrahim    8324393182"
      ]
     },
     "execution_count": 64,
     "metadata": {},
     "output_type": "execute_result"
    }
   ],
   "source": [
    "## Reading CSV files \n",
    "df2 = pd.read_csv('output2.csv')"
   ]
  },
  {
   "cell_type": "code",
   "execution_count": null,
   "metadata": {},
   "outputs": [],
   "source": []
  }
 ],
 "metadata": {
  "kernelspec": {
   "display_name": "Python 3",
   "language": "python",
   "name": "python3"
  },
  "language_info": {
   "codemirror_mode": {
    "name": "ipython",
    "version": 3
   },
   "file_extension": ".py",
   "mimetype": "text/x-python",
   "name": "python",
   "nbconvert_exporter": "python",
   "pygments_lexer": "ipython3",
   "version": "3.8.3"
  }
 },
 "nbformat": 4,
 "nbformat_minor": 4
}
