{
 "cells": [
  {
   "cell_type": "markdown",
   "metadata": {},
   "source": [
    "### If Statments"
   ]
  },
  {
   "cell_type": "code",
   "execution_count": 9,
   "metadata": {},
   "outputs": [
    {
     "name": "stdout",
     "output_type": "stream",
     "text": [
      "[10, 77, 55, 35, 86, 135]\n"
     ]
    }
   ],
   "source": [
    "## The case examples\n",
    "customer_id = [10,77,55,35,86,135]\n",
    "print(customer_id)"
   ]
  },
  {
   "cell_type": "code",
   "execution_count": 10,
   "metadata": {},
   "outputs": [
    {
     "name": "stdout",
     "output_type": "stream",
     "text": [
      "Enter new customer ID:444\n"
     ]
    }
   ],
   "source": [
    "## using input to get an input from the user. Python assumed the input in a string. You have to change it manually. \n",
    "customer_id.append(int(input(\"Enter new customer ID:\")))"
   ]
  },
  {
   "cell_type": "code",
   "execution_count": 25,
   "metadata": {},
   "outputs": [
    {
     "name": "stdout",
     "output_type": "stream",
     "text": [
      "False\n",
      "False\n"
     ]
    }
   ],
   "source": [
    "#Ibrahim has customer ID's = 55\n",
    "#We want to check whether we have ibrahim's ID in the list\n",
    "#### THE IN OPERATOR #####\n",
    "if 55 not in customer_id:\n",
    "    print(True)\n",
    "else: \n",
    "    print(False)\n",
    "#We can also check multiple\n",
    "if 55 in customer_id and 25 in customer_id:\n",
    "    print(True)\n",
    "else:\n",
    "    print(False)"
   ]
  },
  {
   "cell_type": "code",
   "execution_count": 23,
   "metadata": {},
   "outputs": [
    {
     "name": "stdout",
     "output_type": "stream",
     "text": [
      "Check if customer ID exists in database:555\n",
      "555 is NOT in database.\n"
     ]
    }
   ],
   "source": [
    "## Put this whole thing in a function: \n",
    "## Also put into another function appending the customer_id list:\n",
    "\n",
    "check = int(input(\"Check if customer ID exists in database:\"))\n",
    "if check in customer_id:\n",
    "    print(f\"{check} is in database.\")\n",
    "else:\n",
    "    print(f\"{check} is NOT in database.\")"
   ]
  },
  {
   "cell_type": "markdown",
   "metadata": {},
   "source": [
    "### For Loop"
   ]
  },
  {
   "cell_type": "code",
   "execution_count": 31,
   "metadata": {},
   "outputs": [
    {
     "name": "stdout",
     "output_type": "stream",
     "text": [
      "0\n",
      "1\n",
      "2\n",
      "3\n",
      "4\n",
      "2\n",
      "3\n",
      "4\n"
     ]
    }
   ],
   "source": [
    "#Differences from the while loop:\n",
    "i = 0\n",
    "while (i<5):\n",
    "    print(i)\n",
    "    i = i +1\n",
    "    \n",
    "for i in range(2,5):\n",
    "    print(i)"
   ]
  },
  {
   "cell_type": "code",
   "execution_count": 36,
   "metadata": {},
   "outputs": [
    {
     "name": "stdout",
     "output_type": "stream",
     "text": [
      "2\n",
      "3\n",
      "4\n",
      "5\n",
      "6\n",
      "7\n",
      "8\n",
      "9\n"
     ]
    }
   ],
   "source": [
    "## What is range anyway? range is just a list. \n",
    "l = list(range(2,10))\n",
    "for i in l:\n",
    "    print(i)"
   ]
  },
  {
   "cell_type": "code",
   "execution_count": 3,
   "metadata": {
    "scrolled": true
   },
   "outputs": [
    {
     "ename": "NameError",
     "evalue": "name 'customer_id' is not defined",
     "output_type": "error",
     "traceback": [
      "\u001b[1;31m---------------------------------------------------------------------------\u001b[0m",
      "\u001b[1;31mNameError\u001b[0m                                 Traceback (most recent call last)",
      "\u001b[1;32m<ipython-input-3-1af5f35cd292>\u001b[0m in \u001b[0;36m<module>\u001b[1;34m\u001b[0m\n\u001b[0;32m      1\u001b[0m \u001b[1;31m#for loop can loop through basically anything\u001b[0m\u001b[1;33m\u001b[0m\u001b[1;33m\u001b[0m\u001b[1;33m\u001b[0m\u001b[0m\n\u001b[1;32m----> 2\u001b[1;33m \u001b[0mprint\u001b[0m\u001b[1;33m(\u001b[0m\u001b[0mcustomer_id\u001b[0m\u001b[1;33m)\u001b[0m\u001b[1;33m\u001b[0m\u001b[1;33m\u001b[0m\u001b[0m\n\u001b[0m\u001b[0;32m      3\u001b[0m \u001b[1;32mfor\u001b[0m \u001b[0mi\u001b[0m \u001b[1;32min\u001b[0m \u001b[0mrange\u001b[0m\u001b[1;33m(\u001b[0m\u001b[0mlen\u001b[0m\u001b[1;33m(\u001b[0m\u001b[0mcustomer_id\u001b[0m\u001b[1;33m)\u001b[0m\u001b[1;33m)\u001b[0m\u001b[1;33m:\u001b[0m\u001b[1;33m\u001b[0m\u001b[1;33m\u001b[0m\u001b[0m\n\u001b[0;32m      4\u001b[0m     \u001b[0mcustomer_id\u001b[0m\u001b[1;33m[\u001b[0m\u001b[0mi\u001b[0m\u001b[1;33m]\u001b[0m \u001b[1;33m=\u001b[0m \u001b[0mcustomer_id\u001b[0m\u001b[1;33m[\u001b[0m\u001b[0mi\u001b[0m\u001b[1;33m]\u001b[0m \u001b[1;33m+\u001b[0m \u001b[1;36m1000\u001b[0m\u001b[1;33m\u001b[0m\u001b[1;33m\u001b[0m\u001b[0m\n\u001b[0;32m      5\u001b[0m \u001b[0mprint\u001b[0m\u001b[1;33m(\u001b[0m\u001b[0mcustomer_id\u001b[0m\u001b[1;33m)\u001b[0m\u001b[1;33m\u001b[0m\u001b[1;33m\u001b[0m\u001b[0m\n",
      "\u001b[1;31mNameError\u001b[0m: name 'customer_id' is not defined"
     ]
    }
   ],
   "source": [
    "#for loop can loop through basically anything\n",
    "print(customer_id)\n",
    "for i in range(len(customer_id)):\n",
    "    customer_id[i] = customer_id[i] + 1000\n",
    "print(customer_id)"
   ]
  },
  {
   "cell_type": "code",
   "execution_count": 4,
   "metadata": {},
   "outputs": [
    {
     "name": "stdout",
     "output_type": "stream",
     "text": [
      "This customer: Ibrahim is in the database\n",
      "This customer: Mahmood is in the database\n",
      "This customer: Yaman is in the database\n",
      "['Ibrahim Albaba', 'Mahmood Albaba', 'Yaman Shanfoshy']\n"
     ]
    }
   ],
   "source": [
    "## looping through different datatypes\n",
    "customer_name = [\"Ibrahim\",\"Mahmood\",\"Yaman\"]\n",
    "for name in customer_name:\n",
    "    print(\"This customer: \"+name+\" is in the database\")\n",
    "for i in range(len(customer_name)):\n",
    "    if customer_name[i] ==\"Yaman\":\n",
    "        customer_name[i] = customer_name[i] + ' Shanfoshy'\n",
    "    else:\n",
    "        customer_name[i] = customer_name[i] + ' Albaba'\n",
    "        \n",
    "print(customer_name)"
   ]
  },
  {
   "cell_type": "markdown",
   "metadata": {},
   "source": [
    "### Example 1"
   ]
  },
  {
   "cell_type": "code",
   "execution_count": 52,
   "metadata": {},
   "outputs": [],
   "source": [
    "#create a function that get passed in a list, and we want to return all the integers from that list into a new list"
   ]
  },
  {
   "cell_type": "code",
   "execution_count": 53,
   "metadata": {},
   "outputs": [],
   "source": [
    "def return_int (l):\n",
    "    new_list = []\n",
    "    for element in l:\n",
    "        if type(element) == int:\n",
    "            new_list.append(element)\n",
    "    return new_list"
   ]
  },
  {
   "cell_type": "code",
   "execution_count": 54,
   "metadata": {},
   "outputs": [
    {
     "data": {
      "text/plain": [
       "[77, 66]"
      ]
     },
     "execution_count": 54,
     "metadata": {},
     "output_type": "execute_result"
    }
   ],
   "source": [
    "names_and_int = [77, \"dsfkjdsah\", 66, \"fhdsfa\"]\n",
    "return_int(names_and_int)"
   ]
  },
  {
   "cell_type": "markdown",
   "metadata": {},
   "source": [
    "### Example 2:\n",
    "How Many Vowels?\n",
    "Create a function that takes a string and returns the number (count) of vowels contained within it.\n",
    "\n",
    "Examples\n",
    "count_vowels(\"Celebration\") ➞ 5\n",
    "\n",
    "count_vowels(\"Palm\") ➞ 1\n",
    "\n",
    "count_vowels(\"Prediction\") ➞ 4\n",
    "Notes\n",
    "a, e, i, o, u are considered vowels (not y).\n",
    "All test cases are one word and only contain letters."
   ]
  },
  {
   "cell_type": "code",
   "execution_count": 61,
   "metadata": {},
   "outputs": [],
   "source": [
    "def numberOfVowels(string):\n",
    "    vowels = ['a','e','i','o','u']\n",
    "    return_var = 0\n",
    "    for letter in string:\n",
    "        if letter in vowels:\n",
    "            return_var = return_var + 1\n",
    "    return(return_var)"
   ]
  },
  {
   "cell_type": "code",
   "execution_count": 62,
   "metadata": {},
   "outputs": [
    {
     "data": {
      "text/plain": [
       "2"
      ]
     },
     "execution_count": 62,
     "metadata": {},
     "output_type": "execute_result"
    }
   ],
   "source": [
    "numberOfVowels(\"Ibrahim\")"
   ]
  },
  {
   "cell_type": "markdown",
   "metadata": {},
   "source": [
    "## Homework\n",
    "PROBLEM 1:\n",
    "Filter Strings from Array\n",
    "Create a function that takes a list of strings and integers, and filters out the list so that it returns a list of integers only.\n",
    "\n",
    "Examples\n",
    "filter_list([1, 2, 3, \"a\", \"b\", 4]) ➞ [1, 2, 3, 4]\n",
    "\n",
    "filter_list([\"A\", 0, \"Edabit\", 1729, \"Python\", \"1729\"]) ➞ [0, 1729]\n",
    "\n",
    "filter_list([\"Nothing\", \"here\"]) ➞ []\n",
    "Notes\n",
    "Don't overthink this one.\n",
    "\n",
    "PROBLEM 2:\n",
    "Amplify the Multiples of Four\n",
    "Create a function that takes an integer and returns a list from 1 to the given number, where:\n",
    "\n",
    "If the number can be divided evenly by 4, amplify it by 10 (i.e. return 10 times the number).\n",
    "If the number cannot be divided evenly by 4, simply return the number.\n",
    "Examples\n",
    "amplify(4) ➞ [1, 2, 3, 40]\n",
    "\n",
    "amplify(3) ➞ [1, 2, 3]\n",
    "\n",
    "amplify(25) ➞ [1, 2, 3, 40, 5, 6, 7, 80, 9, 10, 11, 120, 13, 14, 15, 160, 17, 18, 19, 200, 21, 22, 23, 240, 25]\n",
    "Notes:\n",
    "In order to find is something is evenly divisible, think how you can use % or // "
   ]
  },
  {
   "cell_type": "code",
   "execution_count": null,
   "metadata": {},
   "outputs": [],
   "source": []
  }
 ],
 "metadata": {
  "kernelspec": {
   "display_name": "Python 3",
   "language": "python",
   "name": "python3"
  },
  "language_info": {
   "codemirror_mode": {
    "name": "ipython",
    "version": 3
   },
   "file_extension": ".py",
   "mimetype": "text/x-python",
   "name": "python",
   "nbconvert_exporter": "python",
   "pygments_lexer": "ipython3",
   "version": "3.8.3"
  }
 },
 "nbformat": 4,
 "nbformat_minor": 4
}
