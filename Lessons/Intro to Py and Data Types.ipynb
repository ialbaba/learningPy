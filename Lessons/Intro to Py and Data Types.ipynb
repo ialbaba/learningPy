{
 "cells": [
  {
   "cell_type": "markdown",
   "metadata": {},
   "source": [
    "## Datatypes"
   ]
  },
  {
   "cell_type": "code",
   "execution_count": 64,
   "metadata": {},
   "outputs": [],
   "source": [
    "var_str = \"This is a string\"\n",
    "var_int = 45\n",
    "var_float = 45.89999\n",
    "var_list = [10,45,555,\"Hello\"]"
   ]
  },
  {
   "cell_type": "code",
   "execution_count": 25,
   "metadata": {},
   "outputs": [
    {
     "name": "stdout",
     "output_type": "stream",
     "text": [
      "-0.8999900000000025\n",
      "184528125\n",
      "2065.49955\n"
     ]
    }
   ],
   "source": [
    "# Printing variables\n",
    "# integers +,-,*,**\n",
    "print(var_int-var_float)\n",
    "print(var_int**5)\n",
    "print(var_int*var_float)"
   ]
  },
  {
   "cell_type": "code",
   "execution_count": 32,
   "metadata": {},
   "outputs": [
    {
     "name": "stdout",
     "output_type": "stream",
     "text": [
      "This is a string [10, 45, 555, 'Hello']\n",
      "This is a string and this is not a string: 45 and this is a list [10, 45, 555, 'Hello']\n"
     ]
    }
   ],
   "source": [
    "#Printing Variable: strings\n",
    "print(var_str+\" \"+str(var_int))\n",
    "#Second, better method\n",
    "print(f\"{var_str} and this is not a string: {var_int} and this is a list {var_list}\")"
   ]
  },
  {
   "cell_type": "code",
   "execution_count": 40,
   "metadata": {},
   "outputs": [
    {
     "name": "stdout",
     "output_type": "stream",
     "text": [
      "This is a string and everything else is not a string\n",
      "This is a string and everything else is not a string and everything else is not a string\n"
     ]
    }
   ],
   "source": [
    "#data tranformation\n",
    "#string\n",
    "print(var_str)\n",
    "var_str = var_str + \" and everything else is not a string\"\n",
    "print(var_str)"
   ]
  },
  {
   "cell_type": "code",
   "execution_count": 41,
   "metadata": {},
   "outputs": [
    {
     "name": "stdout",
     "output_type": "stream",
     "text": [
      "45\n",
      "145\n"
     ]
    }
   ],
   "source": [
    "#data tranformation\n",
    "#numeric\n",
    "print(var_int)\n",
    "var_int = var_int + 100\n",
    "print(var_int)"
   ]
  },
  {
   "cell_type": "code",
   "execution_count": 51,
   "metadata": {},
   "outputs": [
    {
     "name": "stdout",
     "output_type": "stream",
     "text": [
      "[10, 45, 'Another String', 'Hello', 1045.889]\n"
     ]
    },
    {
     "data": {
      "text/plain": [
       "[10, 45, 'Another String', 'Hello', 1045.889]"
      ]
     },
     "execution_count": 51,
     "metadata": {},
     "output_type": "execute_result"
    }
   ],
   "source": [
    "#data tranformation\n",
    "#list\n",
    "print(var_list)\n",
    "var_list.append(1045.889)\n",
    "var_list[2] = \"Another String\"\n",
    "var_list = var_list[0:5]\n",
    "var_list"
   ]
  },
  {
   "cell_type": "code",
   "execution_count": 65,
   "metadata": {},
   "outputs": [
    {
     "name": "stdout",
     "output_type": "stream",
     "text": [
      "[10, 45, 555, 'Hello']\n",
      "[45, 555, 'Hello']\n"
     ]
    }
   ],
   "source": [
    "#list functions and operations\n",
    "#remove\n",
    "var_list.append(\"Hello\")\n",
    "var_list.remove('Hello')\n",
    "#var_list2 = var_list\n",
    "print(var_list)\n",
    "#print(var_list2.clear())\n",
    "del var_list[0]\n",
    "print(var_list)"
   ]
  },
  {
   "cell_type": "code",
   "execution_count": 80,
   "metadata": {},
   "outputs": [
    {
     "data": {
      "text/plain": [
       "3"
      ]
     },
     "execution_count": 80,
     "metadata": {},
     "output_type": "execute_result"
    }
   ],
   "source": [
    "#Advanced Operations\n",
    "#len operator: length of object\n",
    "#Print half the string\n",
    "len(var_str)\n",
    "halfway = int(len(var_str)/2)\n",
    "halfway = len(var_str)//2\n",
    "var_str[0:halfway]\n",
    "#len on lists: how many items are in a list\n",
    "len(var_list)"
   ]
  },
  {
   "cell_type": "code",
   "execution_count": 86,
   "metadata": {
    "scrolled": true
   },
   "outputs": [
    {
     "name": "stdout",
     "output_type": "stream",
     "text": [
      "This is a string\n"
     ]
    },
    {
     "data": {
      "text/plain": [
       "5"
      ]
     },
     "execution_count": 86,
     "metadata": {},
     "output_type": "execute_result"
    }
   ],
   "source": [
    "#index\n",
    "print(var_str)\n",
    "var_str.index('is a string')"
   ]
  },
  {
   "cell_type": "code",
   "execution_count": 100,
   "metadata": {},
   "outputs": [
    {
     "name": "stdout",
     "output_type": "stream",
     "text": [
      "This is a string\n",
      "['Ibrahim', 'Mahmoud', 'Muayad']\n"
     ]
    }
   ],
   "source": [
    "#count\n",
    "print(var_str)\n",
    "var_str.count('i')\n",
    "#substring and reversing string\n",
    "var_str[::-1]\n",
    "#split\n",
    "new_str = 'Ibrahim, Mahmoud, Muayad'\n",
    "names = new_str.split(', ')\n",
    "print(names)"
   ]
  },
  {
   "cell_type": "markdown",
   "metadata": {},
   "source": [
    "### Boolean"
   ]
  },
  {
   "cell_type": "code",
   "execution_count": 121,
   "metadata": {},
   "outputs": [
    {
     "name": "stdout",
     "output_type": "stream",
     "text": [
      "True\n"
     ]
    }
   ],
   "source": [
    "x = 1\n",
    "bool_var = bool(x==1)\n",
    "print(bool_var)"
   ]
  },
  {
   "cell_type": "markdown",
   "metadata": {},
   "source": [
    "## Functions"
   ]
  },
  {
   "cell_type": "markdown",
   "metadata": {},
   "source": [
    "Write a function that take in the base and height of a triangle and returns the area"
   ]
  },
  {
   "cell_type": "code",
   "execution_count": 114,
   "metadata": {},
   "outputs": [],
   "source": [
    "def areaTriangle(base, height):\n",
    "    area = 0.5 * (base*height)\n",
    "    return area"
   ]
  },
  {
   "cell_type": "code",
   "execution_count": 117,
   "metadata": {},
   "outputs": [
    {
     "name": "stdout",
     "output_type": "stream",
     "text": [
      "200.0\n"
     ]
    }
   ],
   "source": [
    "result = areaTriangle(10, 40)\n",
    "print(result)"
   ]
  },
  {
   "cell_type": "markdown",
   "metadata": {},
   "source": [
    "### if Statements"
   ]
  },
  {
   "cell_type": "code",
   "execution_count": 126,
   "metadata": {},
   "outputs": [
    {
     "name": "stdout",
     "output_type": "stream",
     "text": [
      "Success\n",
      "Success\n"
     ]
    }
   ],
   "source": [
    "x = 1\n",
    "i = 10\n",
    "if x == 1 and i == 10:\n",
    "    print(\"Success\")\n",
    "if i == 10:\n",
    "    print(\"Success\")\n",
    "elif x == 2:\n",
    "    print(\"Fail\")\n",
    "else: \n",
    "    print(\"Done\")"
   ]
  },
  {
   "cell_type": "markdown",
   "metadata": {},
   "source": [
    "Practice Problem\n",
    ": Write a function that is passed a list of names and returns the location of 'Bob\" in that list \n",
    "EC: return -1 if bob is not in the list:"
   ]
  },
  {
   "cell_type": "code",
   "execution_count": 127,
   "metadata": {},
   "outputs": [],
   "source": [
    "names = ['Todd', \"Jeff\", \"Carol\", \"Bob\"]"
   ]
  },
  {
   "cell_type": "code",
   "execution_count": 141,
   "metadata": {},
   "outputs": [],
   "source": [
    "def whereIsBob(names):\n",
    "    return names.index(\"Bob\") + 1"
   ]
  },
  {
   "cell_type": "code",
   "execution_count": 143,
   "metadata": {},
   "outputs": [
    {
     "name": "stdout",
     "output_type": "stream",
     "text": [
      "4\n"
     ]
    }
   ],
   "source": [
    "x = whereIsBob(names)\n",
    "print(x)"
   ]
  },
  {
   "cell_type": "markdown",
   "metadata": {},
   "source": [
    "### Loops in Python\n",
    "#### The While Loop"
   ]
  },
  {
   "cell_type": "code",
   "execution_count": 132,
   "metadata": {},
   "outputs": [
    {
     "name": "stdout",
     "output_type": "stream",
     "text": [
      "Todd\n",
      "Jeff\n",
      "Carol\n",
      "Bob\n"
     ]
    }
   ],
   "source": [
    "i = 0\n",
    "while(i < len(names)):\n",
    "    print(names[i])\n",
    "    i = i + 1"
   ]
  },
  {
   "cell_type": "code",
   "execution_count": 153,
   "metadata": {},
   "outputs": [
    {
     "name": "stdout",
     "output_type": "stream",
     "text": [
      "3\n"
     ]
    }
   ],
   "source": [
    "#Another approachh to practice problem\n",
    "i = 0\n",
    "while(i < len(names)):\n",
    "    if names[i] == \"Bob\":\n",
    "        print(i)\n",
    "    i = i + 1"
   ]
  },
  {
   "cell_type": "code",
   "execution_count": 158,
   "metadata": {},
   "outputs": [],
   "source": [
    "# EC: return -1 if bob is not in the list:\n",
    "def whereIsBob2(names):\n",
    "    return_var = -1\n",
    "    i2 = 0\n",
    "    while(i2 < len(names)):\n",
    "        if names[i2] == \"Bob\":\n",
    "            return_var = i2\n",
    "            break\n",
    "        else:\n",
    "            i2 = i2 + 1\n",
    "    return(return_var)"
   ]
  },
  {
   "cell_type": "code",
   "execution_count": 161,
   "metadata": {},
   "outputs": [
    {
     "data": {
      "text/plain": [
       "-1"
      ]
     },
     "execution_count": 161,
     "metadata": {},
     "output_type": "execute_result"
    }
   ],
   "source": [
    "whereIsBob2(names)\n",
    "whereIsBob2(['Christy', \"Jackson\"])\\"
   ]
  },
  {
   "cell_type": "markdown",
   "metadata": {},
   "source": [
    "### Additional Problems"
   ]
  },
  {
   "cell_type": "code",
   "execution_count": 163,
   "metadata": {},
   "outputs": [
    {
     "data": {
      "text/plain": [
       "36000"
      ]
     },
     "execution_count": 163,
     "metadata": {},
     "output_type": "execute_result"
    }
   ],
   "source": [
    "#Write a function that converts hours into seconds.\n",
    "def convertHourstoSeconds(hour):\n",
    "    return hour*60*60\n",
    "convertHourstoSeconds(10)"
   ]
  },
  {
   "cell_type": "code",
   "execution_count": null,
   "metadata": {},
   "outputs": [],
   "source": [
    "#### Problem 1\n",
    "Return the First Element in a List\n",
    "Create a function that takes a list and returns the first element.\n",
    "\n",
    "Examples\n",
    "get_first_value([1, 2, 3]) ➞ 1\n",
    "\n",
    "get_first_value([80, 5, 100]) ➞ 80\n",
    "\n",
    "get_first_value([-500, 0, 50]) ➞ -500\n",
    "Notes\n",
    "The first element in a list always has an index of 0.\n",
    "\n",
    "#### Problem 2\n",
    "Four Passengers and a Driver\n",
    "A typical car can hold 4 passengers and 1 driver, overall allowing 5 people to travel around. Given n number of people, return how many cars are needed to seat everyone comfortably.\n",
    "\n",
    "Examples\n",
    "cars_needed(5) ➞ 1\n",
    "\n",
    "cars_needed(11) ➞ 3\n",
    "\n",
    "cars_needed(0) ➞ 0\n",
    "Notes\n",
    "It's likely there will be a few people left over and some cars won't be filled to max capacity.\n",
    "\n",
    "Resources:\n",
    "\n",
    "https://edabit.com/challenge/T7DpLzEkAkcxKijz\n",
    "\n",
    "what i recommend:\n",
    "remaider = 10%4\n",
    "remaider = 2"
   ]
  },
  {
   "cell_type": "code",
   "execution_count": null,
   "metadata": {},
   "outputs": [],
   "source": []
  }
 ],
 "metadata": {
  "kernelspec": {
   "display_name": "Python 3",
   "language": "python",
   "name": "python3"
  },
  "language_info": {
   "codemirror_mode": {
    "name": "ipython",
    "version": 3
   },
   "file_extension": ".py",
   "mimetype": "text/x-python",
   "name": "python",
   "nbconvert_exporter": "python",
   "pygments_lexer": "ipython3",
   "version": "3.8.3"
  }
 },
 "nbformat": 4,
 "nbformat_minor": 4
}
