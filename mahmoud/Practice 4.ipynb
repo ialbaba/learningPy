{
 "cells": [
  {
   "cell_type": "markdown",
   "metadata": {},
   "source": [
    "### Lists"
   ]
  },
  {
   "cell_type": "code",
   "execution_count": 77,
   "metadata": {},
   "outputs": [],
   "source": [
    "friends = [\"Kevin\", \"Karen\", \"Mouayad\", \"Mahmoud\"]\n",
    "friends[0] = \"ibrahim\"\n",
    "#print(friends)"
   ]
  },
  {
   "cell_type": "markdown",
   "metadata": {},
   "source": [
    "### List functions"
   ]
  },
  {
   "cell_type": "code",
   "execution_count": 78,
   "metadata": {},
   "outputs": [
    {
     "name": "stdout",
     "output_type": "stream",
     "text": [
      "['ibrahim', 'Karen', 'Mouayad', 'Mahmoud']\n",
      "['ibrahim', 'Karen', 'Mouayad', 'Mahmoud']\n"
     ]
    }
   ],
   "source": [
    "lucky_numbers = [4, 8, 15, 16, 23, 42]\n",
    "#friends.extend(lucky_numbers)\n",
    "#friends.append(\"Maya\")\n",
    "#friends.insert(1, \"Salim\")\n",
    "#friend.clear[]\n",
    "#friends.sort()\n",
    "#friends.reverse()\n",
    "friends2 = friends.copy()\n",
    "print(friends2)\n",
    "print(friends)\n",
    "#print(friends.index(\"Mahmoud\"))\n",
    "#print(friends.count(\"Maya\"))\n"
   ]
  },
  {
   "cell_type": "markdown",
   "metadata": {},
   "source": [
    "### Tuples"
   ]
  },
  {
   "cell_type": "code",
   "execution_count": 79,
   "metadata": {},
   "outputs": [
    {
     "name": "stdout",
     "output_type": "stream",
     "text": [
      "5\n"
     ]
    }
   ],
   "source": [
    "coordinates = (4, 5)\n",
    "\n",
    "print(coordinates[1])"
   ]
  },
  {
   "cell_type": "markdown",
   "metadata": {},
   "source": [
    "### Functions"
   ]
  },
  {
   "cell_type": "code",
   "execution_count": 80,
   "metadata": {},
   "outputs": [
    {
     "name": "stdout",
     "output_type": "stream",
     "text": [
      "Hello Mahmoud, you are 16\n"
     ]
    }
   ],
   "source": [
    "def say_hi(name, age):\n",
    "    print(\"Hello \"+ name + \", you are \" + age)\n",
    "   \n",
    "say_hi(\"Mahmoud\", \"16\")"
   ]
  },
  {
   "cell_type": "markdown",
   "metadata": {},
   "source": [
    "### Return Statement"
   ]
  },
  {
   "cell_type": "code",
   "execution_count": 81,
   "metadata": {},
   "outputs": [
    {
     "name": "stdout",
     "output_type": "stream",
     "text": [
      "64\n"
     ]
    }
   ],
   "source": [
    "def cube(num):\n",
    "    return num*num*num\n",
    "\n",
    "result = cube(4)\n",
    "cube(3)    \n",
    "print(result)"
   ]
  },
  {
   "cell_type": "markdown",
   "metadata": {},
   "source": [
    "### If Statements"
   ]
  },
  {
   "cell_type": "code",
   "execution_count": 82,
   "metadata": {},
   "outputs": [
    {
     "name": "stdout",
     "output_type": "stream",
     "text": [
      "you are not a male and not tall\n"
     ]
    }
   ],
   "source": [
    "is_male = False\n",
    "is_tall = False\n",
    "\n",
    "if is_male and is_tall:\n",
    "    print(\"You are a tall male\")\n",
    "elif is_male and not(is_tall):\n",
    "    print(\"you are a short male\")\n",
    "elif not(is_male) and is_tall:\n",
    "    print(\"you are not a male but are tall\")\n",
    "else:\n",
    "    print(\"you are not a male and not tall\")"
   ]
  },
  {
   "cell_type": "markdown",
   "metadata": {},
   "source": [
    "### If Statements & Comparisons"
   ]
  },
  {
   "cell_type": "code",
   "execution_count": 83,
   "metadata": {},
   "outputs": [
    {
     "data": {
      "text/plain": [
       "300"
      ]
     },
     "execution_count": 83,
     "metadata": {},
     "output_type": "execute_result"
    }
   ],
   "source": [
    "def max_num(num1, num2, num3):\n",
    "    if num1 >= num2 and num1>= num3:\n",
    "        return num1\n",
    "    elif num2 >= num1 and num2 >= num3:\n",
    "        return num2\n",
    "    else:\n",
    "        return num3\n",
    "max_num(300, 30, 5)    "
   ]
  },
  {
   "cell_type": "markdown",
   "metadata": {},
   "source": [
    "### Building a Better Calculator"
   ]
  },
  {
   "cell_type": "code",
   "execution_count": 85,
   "metadata": {},
   "outputs": [
    {
     "name": "stdout",
     "output_type": "stream",
     "text": [
      "Enter first number: 25\n",
      "Enter operator: /\n",
      "Enter second number: 5\n",
      "5.0\n"
     ]
    }
   ],
   "source": [
    "number1 = float(input(\"Enter first number: \"))\n",
    "op = input(\"Enter operator: \")\n",
    "number2 = float(input(\"Enter second number: \"))\n",
    "\n",
    "if op == \"+\":\n",
    "    print(number1 + number2)\n",
    "elif op == \"-\":\n",
    "    print(number1 - number2)\n",
    "elif op == \"*\":\n",
    "    print(number1 * number2)\n",
    "elif op == \"/\":\n",
    "    print(number1 / number2)\n",
    "else:\n",
    "    print(\"Invalid operator\")\n",
    "    \n"
   ]
  },
  {
   "cell_type": "markdown",
   "metadata": {},
   "source": [
    "### Dictionaries"
   ]
  },
  {
   "cell_type": "code",
   "execution_count": null,
   "metadata": {},
   "outputs": [],
   "source": [
    "monthConversions = {\n",
    "    \"Jan\": \"January\",\n",
    "    \"Feb\": \"February\",\n",
    "    \"Mar\": \"March\"\n",
    "}"
   ]
  },
  {
   "cell_type": "code",
   "execution_count": 2,
   "metadata": {},
   "outputs": [
    {
     "ename": "NameError",
     "evalue": "name 'mouayad' is not defined",
     "output_type": "error",
     "traceback": [
      "\u001b[1;31m---------------------------------------------------------------------------\u001b[0m",
      "\u001b[1;31mNameError\u001b[0m                                 Traceback (most recent call last)",
      "\u001b[1;32m<ipython-input-2-a2d57a8a9ef8>\u001b[0m in \u001b[0;36m<module>\u001b[1;34m\u001b[0m\n\u001b[1;32m----> 1\u001b[1;33m \u001b[0mmahmoud\u001b[0m \u001b[1;33m=\u001b[0m \u001b[1;33m{\u001b[0m\u001b[0mmouayad\u001b[0m\u001b[1;33m:\u001b[0m \u001b[1;36m34\u001b[0m\u001b[1;33m,\u001b[0m \u001b[0mibraihm\u001b[0m\u001b[1;33m:\u001b[0m \u001b[1;36m50\u001b[0m\u001b[1;33m}\u001b[0m\u001b[1;33m\u001b[0m\u001b[1;33m\u001b[0m\u001b[0m\n\u001b[0m\u001b[0;32m      2\u001b[0m \u001b[0mmahmoud\u001b[0m\u001b[1;33m.\u001b[0m\u001b[0mget\u001b[0m\u001b[1;33m(\u001b[0m\u001b[1;34m\"mouayad\"\u001b[0m\u001b[1;33m)\u001b[0m\u001b[1;33m\u001b[0m\u001b[1;33m\u001b[0m\u001b[0m\n",
      "\u001b[1;31mNameError\u001b[0m: name 'mouayad' is not defined"
     ]
    }
   ],
   "source": [
    "mahmoud = {mouayad: 34, ibraihm: 50}\n",
    "mahmoud.get(\"mouayad\")"
   ]
  },
  {
   "cell_type": "code",
   "execution_count": null,
   "metadata": {},
   "outputs": [],
   "source": []
  }
 ],
 "metadata": {
  "kernelspec": {
   "display_name": "Python 3",
   "language": "python",
   "name": "python3"
  },
  "language_info": {
   "codemirror_mode": {
    "name": "ipython",
    "version": 3
   },
   "file_extension": ".py",
   "mimetype": "text/x-python",
   "name": "python",
   "nbconvert_exporter": "python",
   "pygments_lexer": "ipython3",
   "version": "3.8.3"
  }
 },
 "nbformat": 4,
 "nbformat_minor": 4
}
