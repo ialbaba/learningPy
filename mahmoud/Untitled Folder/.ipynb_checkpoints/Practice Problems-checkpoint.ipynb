{
 "cells": [
  {
   "cell_type": "markdown",
   "metadata": {},
   "source": [
    "### Problem 1"
   ]
  },
  {
   "cell_type": "code",
   "execution_count": 12,
   "metadata": {},
   "outputs": [
    {
     "data": {
      "text/plain": [
       "7"
      ]
     },
     "execution_count": 12,
     "metadata": {},
     "output_type": "execute_result"
    }
   ],
   "source": [
    "### Create a function that takes two numbers as arguments and return their sum.\n",
    "\n",
    "def adding(num1,num2):\n",
    "    return(num1 + num2)\n",
    "adding(3,4)"
   ]
  },
  {
   "cell_type": "markdown",
   "metadata": {},
   "source": [
    "### Problem 2"
   ]
  },
  {
   "cell_type": "code",
   "execution_count": 15,
   "metadata": {},
   "outputs": [
    {
     "name": "stdout",
     "output_type": "stream",
     "text": [
      "300\n"
     ]
    }
   ],
   "source": [
    "### Write a function that takes an integer minutes and converts it to seconds.\n",
    "\n",
    "def convert_seconds(Minutes):\n",
    "    print(Minutes * 60)\n",
    "    \n",
    "convert_seconds(5)    "
   ]
  },
  {
   "cell_type": "markdown",
   "metadata": {},
   "source": [
    "### Problem 3"
   ]
  },
  {
   "cell_type": "code",
   "execution_count": 17,
   "metadata": {},
   "outputs": [
    {
     "data": {
      "text/plain": [
       "5.0"
      ]
     },
     "execution_count": 17,
     "metadata": {},
     "output_type": "execute_result"
    }
   ],
   "source": [
    "### Write a function that takes the base and height of a triangle and return its area.\n",
    "\n",
    "def tri_area(base,height):\n",
    "    return(base * height / 2)\n",
    "\n",
    "tri_area(5,2)"
   ]
  },
  {
   "cell_type": "markdown",
   "metadata": {},
   "source": [
    "### Problem 4"
   ]
  },
  {
   "cell_type": "code",
   "execution_count": 21,
   "metadata": {},
   "outputs": [
    {
     "data": {
      "text/plain": [
       "3"
      ]
     },
     "execution_count": 21,
     "metadata": {},
     "output_type": "execute_result"
    }
   ],
   "source": [
    "### Create a function that finds the maximum range of a triangle's third edge, where the side lengths are all integers.\n",
    "\n",
    "def string_int(num):\n",
    "    return int(num)\n",
    "string_int(\"3\")"
   ]
  },
  {
   "cell_type": "markdown",
   "metadata": {},
   "source": [
    "### Problem 5"
   ]
  },
  {
   "cell_type": "code",
   "execution_count": 31,
   "metadata": {},
   "outputs": [
    {
     "name": "stdout",
     "output_type": "stream",
     "text": [
      "He...He...Hello\n"
     ]
    }
   ],
   "source": [
    "# Write a function that stutters a word as if someone is struggling to read it.\n",
    "# The first two letters are repeated twice with an ellipsis ... and space after each,\n",
    "# and then the word is pronounced with a question mark ?.\n",
    "\n",
    "def stutter(word):\n",
    "    print(word[0:2] + \"...\" + word[0:2] + \"...\" + word)\n",
    "    \n",
    "stutter(\"Hello\")    \n"
   ]
  },
  {
   "cell_type": "markdown",
   "metadata": {},
   "source": [
    "### Problem 6 "
   ]
  },
  {
   "cell_type": "code",
   "execution_count": 38,
   "metadata": {},
   "outputs": [
    {
     "data": {
      "text/plain": [
       "5"
      ]
     },
     "execution_count": 38,
     "metadata": {},
     "output_type": "execute_result"
    }
   ],
   "source": [
    "### Create a function that counts how many characters make up a rectangular shape. You will be given a list of strings.\n",
    "\n",
    "def count_characters(lst):\n",
    "  return sum(len(i) for i in lst)\n",
    "\n",
    "count_characters(\"***&&\")"
   ]
  },
  {
   "cell_type": "code",
   "execution_count": null,
   "metadata": {},
   "outputs": [],
   "source": []
  }
 ],
 "metadata": {
  "kernelspec": {
   "display_name": "Python 3",
   "language": "python",
   "name": "python3"
  },
  "language_info": {
   "codemirror_mode": {
    "name": "ipython",
    "version": 3
   },
   "file_extension": ".py",
   "mimetype": "text/x-python",
   "name": "python",
   "nbconvert_exporter": "python",
   "pygments_lexer": "ipython3",
   "version": "3.8.3"
  }
 },
 "nbformat": 4,
 "nbformat_minor": 4
}
